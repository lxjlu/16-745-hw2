{
 "cells": [
  {
   "cell_type": "code",
   "execution_count": null,
   "metadata": {},
   "outputs": [],
   "source": [
    "import Pkg; Pkg.activate(joinpath(@__DIR__,\"..\")); Pkg.instantiate()\n",
    "using Plots\n",
    "using Test\n",
    "include(\"car.jl\");"
   ]
  },
  {
   "cell_type": "markdown",
   "metadata": {},
   "source": [
    "# Question 2: TVLQR (25 pts)\n",
    "In this problem we'll use time-varying LQR (TVLQR) to track a reference trajectory for a simplified model of a car. \n",
    "\n",
    "## The Model\n",
    "In this problem we'll be using the standard kinematic \"bicycle\" model for a car. As a kinematic model, we don't consider the effects of things like tire forces, friction, or aerodynamics forces. The bicycle model combines the tires on each axle into a single tire, and uses simple trigonometric relationships to describe the motion of car. While deriving these equations is good practice, we'll just state them here:\n",
    "\n",
    "$$ \n",
    "x = \\begin{bmatrix} p_x \\\\ p_y \\\\ \\theta \\\\ \\delta \\end{bmatrix}, \\quad\n",
    "u = \\begin{bmatrix} v \\\\ \\phi \\end{bmatrix}, \\quad\n",
    "\\dot{x} = \\begin{bmatrix} v \\cos{(\\theta + \\beta)} \\\\ v \\sin{(\\theta + \\beta)} \\\\ \\frac{v \\cos{\\beta} \\tan{\\delta}}{L} \\\\ \\phi \\end{bmatrix}\n",
    "$$\n",
    "\n",
    "where $\\theta$ is the yaw angle, $\\delta$ is the steering angle, $v$ is the forward velocity, $\\phi$ is the steering angle rate, $L$ is the distance between the wheels, and $\\beta = \\text{atan2}(\\delta l_r, L)$ is the side-slip angle. Here we have defined the x,y position `(p_x,p_y)` to be relative to the center of mass of the vehicle, located a distance `l_r` from the rear wheel.\n",
    "\n",
    "In this problem, we use the `RobotDynamics.jl` package to define the model. This package allows some convenient methods to evaluate the discrete dynamics and both the continuous or discrete-time Jacobians automatically using either automatic differentiation or finite differencing. See the code block below for some simple examples of using the API."
   ]
  },
  {
   "cell_type": "code",
   "execution_count": null,
   "metadata": {},
   "outputs": [],
   "source": [
    "# Define the model\n",
    "model = BicycleModel()\n",
    "\n",
    "# get the number of states and controls\n",
    "n = state_dim(model)\n",
    "m = control_dim(model)\n",
    "n,m = size(model)  # alternate method\n",
    "\n",
    "# Evaluate the continuous and discrete dynamics\n",
    "x0 = SA[0,0,0,0]\n",
    "u0 = SA[0,0]\n",
    "t0 = 0.0\n",
    "dt = 0.1\n",
    "dynamics(model, x0, u0)\n",
    "discrete_dynamics(RK4, model, x0, u0, t0, dt)  # use rk4 for integration\n",
    "\n",
    "# Evaluate the continuous and discrete Jacobians\n",
    "z0 = KnotPoint(x0,u0,dt,t0)   # create a `KnotPoint` type that stores everything together\n",
    "∇f = RobotDynamics.DynamicsJacobian(model)\n",
    "jacobian!(∇f, model, z0)\n",
    "discrete_jacobian!(RK4, ∇f, model, z0)\n",
    "\n",
    "# Extract pieces of the Jacobian\n",
    "A = ∇f.A\n",
    "B = ∇f.B;"
   ]
  },
  {
   "cell_type": "markdown",
   "metadata": {},
   "source": [
    "## The Reference Trajectory\n",
    "In this problem we'll be tracking a reference trajectory generated via trajectory optimization. The code below loads the reference trajectory, plots it using `Plots.jl` (and some custom plotting recipes in `RobotDynamics`) and visualizes it using MeshCat."
   ]
  },
  {
   "cell_type": "code",
   "execution_count": null,
   "metadata": {},
   "outputs": [],
   "source": [
    "# Load trajectories\n",
    "traj = load(TRAJFILE)\n",
    "Xref,Uref,tref = traj[\"X\"], traj[\"U\"], traj[\"times\"];"
   ]
  },
  {
   "cell_type": "code",
   "execution_count": null,
   "metadata": {},
   "outputs": [],
   "source": [
    "# Plot the states\n",
    "plot(tref, Xref, inds=1:4, labels=[\"x\" \"y\" \"θ\" \"δ\"], legend=:bottomleft, title=\"states\", xlabel=\"time (s)\")\n",
    "\n",
    "# TIP: Use the `inds` keyword to plot a subset of the states, e.g. `inds=1:2` to only plot the x,y positions"
   ]
  },
  {
   "cell_type": "code",
   "execution_count": null,
   "metadata": {},
   "outputs": [],
   "source": [
    "# Plots the controls\n",
    "plot(tref[1:end-1], Uref, labels=[\"v\" \"ϕ\"], legend=:bottomleft, title=\"controls\", xlabel=\"time (s)\")"
   ]
  },
  {
   "cell_type": "code",
   "execution_count": null,
   "metadata": {},
   "outputs": [],
   "source": [
    "# Visualize in MeshCat\n",
    "vis = initialize_visualizer(model)\n",
    "render(vis)"
   ]
  },
  {
   "cell_type": "code",
   "execution_count": null,
   "metadata": {},
   "outputs": [],
   "source": [
    "# Send the trajectory to the visualizer\n",
    "visualize!(vis, model, tref[end], Xref)"
   ]
  },
  {
   "cell_type": "markdown",
   "metadata": {},
   "source": [
    "## Part (a): Implement TVLQR (10 pts)\n",
    "Using the types provided below, implement the method to calculate the feedback gains `K` to track the provided trajectory"
   ]
  },
  {
   "cell_type": "code",
   "execution_count": null,
   "metadata": {},
   "outputs": [],
   "source": [
    "# TASK: Implement the following methods\n",
    "#       calc_gains!  (5 pts)\n",
    "#       get_control  (5 pts)\n",
    "\"\"\"\n",
    "    TVLQR{L,T}\n",
    "\n",
    "A type that contains all the information needed to evaluate a time-varying LQR \n",
    "control policy tracking a trajectory specified by `X`, `U`, and `times`.\n",
    "\n",
    "# Constructor\n",
    "    TVLQR(model, X, U, times, Q, R, Qf)\n",
    "\n",
    "where `model` is a `RobotDynamics.AbstractModel`, `X` and `U` are vectors of the reference\n",
    "states and controls at times `times`. `Q`, `R` and `Qf` are the cost matrices for TVLQR.\n",
    "\n",
    "# Methods\n",
    "The following methods are defined on `TVLQR`:\n",
    "\n",
    "    get_k(ctrl)\n",
    "    linearize!(ctrl)\n",
    "    calc_gains!(ctrl)\n",
    "    get_control(ctrl, x, t)\n",
    "\"\"\"\n",
    "struct TVLQR{L,T}\n",
    "    model::L                     # dynamics model\n",
    "    X::Vector{Vector{T}}         # state reference trajectory (n,)\n",
    "    U::Vector{Vector{T}}         # control reference trajectory (m,)\n",
    "    times::Vector{T}             # times for each point in the trajectory (N,)\n",
    "    Q::Diagonal{T,Vector{T}}     # state cost matrix for TVLQR (n,n)\n",
    "    R::Diagonal{T,Vector{T}}     # control cost matrix for TVLQR (m,m)\n",
    "    Qf::Matrix{T}                # terminal state cost matrix for TVLQR (n,n)\n",
    "    A::Vector{Matrix{T}}         # discrete state Jacobian for each knot point (n,n)\n",
    "    B::Vector{Matrix{T}}         # discrete control Jacobian for each knot point (n,m)\n",
    "    K::Vector{Matrix{T}}         # feedback gain matrices (m,n)\n",
    "    P::Vector{Matrix{T}}         # cost-to-go (n,n)\n",
    "end\n",
    "function TVLQR(model::L, X, U, times::AbstractVector, Q::AbstractMatrix, R::AbstractMatrix, Qf::AbstractMatrix) where L <: AbstractModel\n",
    "    T = promote_type(eltype(X[1]), eltype(X[2]))\n",
    "    n,m = size(model)\n",
    "    N = length(times)\n",
    "    @assert length(X[1]) == n\n",
    "    @assert length(U[1]) == m\n",
    "    @assert length(X) == N \n",
    "    @assert N-1 <= length(U) <= N\n",
    "    A = [zeros(T,n,n) for k = 1:N-1]\n",
    "    B = [zeros(T,n,m) for k = 1:N-1]\n",
    "    K = [zeros(T,m,n) for k = 1:N-1]\n",
    "    P = [zeros(T,n,n) for k = 1:N]\n",
    "    TVLQR(model, Vector{T}.(X), Vector{T}.(U), Vector{T}(times), \n",
    "        Diagonal{T}(diag(Q)), Diagonal{T}(diag(R)), Matrix{T}(Qf),\n",
    "        A, B, K, P\n",
    "    )\n",
    "end\n",
    "\n",
    "\"\"\"\n",
    "    get_k(ctrl, t)\n",
    "\n",
    "Get the time index corresponding to time `t`. \n",
    "Useful for implementing zero-order hold control.\n",
    "Uses binary search to find the time index.\n",
    "\"\"\"\n",
    "get_k(controller::TVLQR, t) = searchsortedlast(controller.times, t)\n",
    "\n",
    "\"\"\"\n",
    "    linearize!(ctrl::TVLQR)\n",
    "\n",
    "Linearize the discretized model about the reference trajectory, storing the result in \n",
    "`A` and `B`.\n",
    "\"\"\"\n",
    "function linearize!(ctrl::TVLQR)\n",
    "    model = ctrl.model\n",
    "    N = length(ctrl.X)\n",
    "    ∇f = RobotDynamics.DynamicsJacobian(model)\n",
    "    X,U = ctrl.X, ctrl.U\n",
    "    \n",
    "    # loop over all the time steps in the reference trajectory\n",
    "    for k = 1:N-1\n",
    "        # some boilerplate code...\n",
    "        dt = ctrl.times[k+1] - ctrl.times[k]\n",
    "        z = KnotPoint(X[k], U[k], dt, ctrl.times[k])\n",
    "        \n",
    "        # evaluate the discrete jacobian at the current time step\n",
    "        discrete_jacobian!(RK4, ∇f, model, z)\n",
    "        \n",
    "        # store the pieces in the controller\n",
    "        ctrl.A[k] .= ∇f.A\n",
    "        ctrl.B[k] .= ∇f.B\n",
    "    end\n",
    "end\n",
    "\n",
    "\"\"\"\n",
    "    calc_gains!(ctrl::TVLQR)\n",
    "\n",
    "Calculate the locally-optimal feedback gains `K` about the current trajectory, \n",
    "using the linearized dynamics in `A` and `B`. Should use a Riccati recursion.\n",
    "\n",
    "**NOTE**: `linearize!(ctrl)` must be called before calling this function!\n",
    "\"\"\"\n",
    "function calc_gains!(ctrl::TVLQR)\n",
    "    # Extract some variables\n",
    "    N = length(ctrl.X)\n",
    "    A,B = ctrl.A, ctrl.B\n",
    "    Q,R = ctrl.Q, ctrl.R\n",
    "    P = ctrl.P\n",
    "    K = ctrl.K\n",
    "    \n",
    "    # TODO: Implement Riccati recursion for TVLQR\n",
    "    #       After this function, all the matrices in ctrl.K and ctrl.P should be updated\n",
    "    \n",
    "    # no need to return anything, since the result is stored in TVLQR type\n",
    "    return nothing\n",
    "end\n",
    "\n",
    "\"\"\"\n",
    "    get_control(ctrl::TVLQR, x, t)\n",
    "\n",
    "Evaluate the TVLQR feedback policy at state `x` and time `t`, returning the control \n",
    "to be executed by the system.\n",
    "\"\"\"\n",
    "function get_control(ctrl::TVLQR, x, t)\n",
    "    # TODO: implement this function\n",
    "    #       should return a vector of size (m,), where m is the number of controls\n",
    "    u = zero(ctrl.U[1])\n",
    "    return u \n",
    "end"
   ]
  },
  {
   "cell_type": "code",
   "execution_count": null,
   "metadata": {},
   "outputs": [],
   "source": [
    "# LQR Cost weights\n",
    "Q = Diagonal([1,1,1e-2,1e-2])\n",
    "R = Diagonal([1e-1,1e-1])\n",
    "Qf = Diagonal([1,1,1,1.])*10\n",
    "\n",
    "# Build controller\n",
    "ctrl = TVLQR(model, Xref, Uref, tref, Q, R, Qf)\n",
    "\n",
    "# Linearize the model about the trajectory\n",
    "linearize!(ctrl)\n",
    "\n",
    "# Calculate the gains using Riccati recursion\n",
    "calc_gains!(ctrl)"
   ]
  },
  {
   "cell_type": "markdown",
   "metadata": {},
   "source": [
    "## Part (b): Simulate the system (0 pts)\n",
    "We'll now simulate our system using our controller, and analyze how well it tracks the reference trajectory under perturbations to the controls and the initial conditions."
   ]
  },
  {
   "cell_type": "code",
   "execution_count": null,
   "metadata": {},
   "outputs": [],
   "source": [
    "\"\"\"\n",
    "    simulate(model, x0, ctrl; [kwargs...])\n",
    "\n",
    "Simulate `model` starting from `x0` using the `get_control(ctrl, x, t)` method to get the \n",
    "closed-loop feedback command.\n",
    "\n",
    "# Keyword Arguments\n",
    "* `tf`: final time\n",
    "* `dt`: simulation time step\n",
    "* `ν`: standard deviation of the white noise on the controls\n",
    "* `w` standard deviation of the white noise on the steering angle\n",
    "\"\"\"\n",
    "function simulate(model::BicycleModel, x0, ctrl; tf=ctrl.times[end], dt=1e-2, ν=0.0, w=0.00)\n",
    "    n,m = size(model)\n",
    "    times = range(0, tf, step=dt)\n",
    "    N = length(times)\n",
    "    X = [@SVector zeros(n) for k = 1:N] \n",
    "    U = [@SVector zeros(m) for k = 1:N-1]\n",
    "    X[1] = x0\n",
    "\n",
    "    for k = 1:N-1\n",
    "        U[k] = get_control(ctrl, X[k], times[k]) + SA[randn(), randn()]*ν\n",
    "        X[k+1] = discrete_dynamics(RK4, model, X[k], U[k], times[k], dt) + SA[0,0,0,randn()*w]\n",
    "    end\n",
    "    return X,U,times\n",
    "end\n",
    "\n",
    "\"\"\"\n",
    "    sse(Xref, tref, X, t)\n",
    "\n",
    "Evaluate the normalized sum-squared error (SSE) of two trajectories of different lengths.\n",
    "This assumes `length(Xref)` < `length(X)` and that `tref[2]` is a multiple of `t[2]`, \n",
    "and that both time vectors have a constant step length.\n",
    "\"\"\"\n",
    "function sse(Xref,tref,X,t)\n",
    "    @assert length(tref) < length(t)\n",
    "    step = tref[2] / t[2]\n",
    "    if abs(step - round(step)) < 1e-6\n",
    "        step = Int(round(step))\n",
    "    end\n",
    "    inds = 1:step:length(time)\n",
    "    @assert norm(tref[1:length(inds)] - t[inds]) < 1e-10\n",
    "    sum(norm.(X[inds] - Xref[1:length(inds)]).^2) / length(inds)\n",
    "end"
   ]
  },
  {
   "cell_type": "code",
   "execution_count": null,
   "metadata": {},
   "outputs": [],
   "source": [
    "# display a new visualizer pane\n",
    "# TIP: you can also use `open(vis)` to open the visualizer in a tab in your browser (useful if you have multiple monitors)\n",
    "render(vis)"
   ]
  },
  {
   "cell_type": "code",
   "execution_count": null,
   "metadata": {},
   "outputs": [],
   "source": [
    "# Simulate the system and compute the errors\n",
    "\n",
    "# try changing both of these inputs to the simulation!\n",
    "ν = 0.0            # std of control noise\n",
    "xinit = [0,0,0,0]  # initial condition\n",
    "X,U,time = simulate(model, xinit, ctrl, ν=ν)\n",
    "\n",
    "# compute the errors\n",
    "err_term = norm(X[end] - Xref[end])\n",
    "err = sse(Xref,tref,X,time)\n",
    "@show err_term\n",
    "@show err\n",
    "\n",
    "# send trajectory to the visualizer\n",
    "visualize!(vis, model, time[end], X)"
   ]
  },
  {
   "cell_type": "markdown",
   "metadata": {},
   "source": [
    "Let's look at how robust it is to white noise in the input channels, velocity and the steering angle rate. Try changing the standard deviation of the control noise and see how it affects the performance. Use the code below to plot the commands we're sending."
   ]
  },
  {
   "cell_type": "code",
   "execution_count": null,
   "metadata": {},
   "outputs": [],
   "source": [
    "plot(time[1:end-1],U, labels=[\"v\" \"ϕ\"], ylabel=\"time (s)\", title=\"controls\")"
   ]
  },
  {
   "cell_type": "markdown",
   "metadata": {},
   "source": [
    "## Part (c): Monte-Carlo Analysis (15 pts)\n",
    "We'll dig a little deeper into finding out how robust our controller is to the initial condition. Our goal is to find the largest symmetric rectangular region around the origin such that at least 95% of the samples within the region converge to the desired target state.\n",
    "\n",
    "To do this, we'll perform a simple Monte-Carlo analysis. In this case, a deterministic sampling scheme will be more sample-efficient than random sampling. Generate a grid of uniformly-distributed sample points in only x and y, and then simulate the system from each of those initial conditions and check if the terminal error, defined as $ ||X_{ref,N} - X_N ||_2 $, is less than 0.2.\n",
    "\n",
    "Once you have a grid of boolean values, find a $\\Delta x$ and $\\Delta y$ such that the area $\\Delta x \\Delta y$ is maximized and the at least 95% of the initial conditions within $\\begin{bmatrix} \\pm \\Delta x & \\pm \\Delta y & 0 &0 \\end{bmatrix}^T$ have a terminal error less than 0.2.\n",
    "\n",
    "**HINT**: Generate a list of `(x,y,success)::Tuple{Float64,Float64,Bool}` tuples and use `filter` and `sort` to get the information you need. The `sort` method offers a `by` argument you may find useful."
   ]
  },
  {
   "cell_type": "code",
   "execution_count": null,
   "metadata": {},
   "outputs": [],
   "source": [
    "# TASK: simulate the initial conditions for all the points in a grid of your choice (3 pts)\n",
    "res = NTuple{3,Float64}[]   # a data structure you may find useful...\n",
    "\n",
    "# TODO: pick a grid to sample (hint: start coarse and then refine it)\n",
    "xmax = 0\n",
    "ymax = 0\n",
    "Nx = 1\n",
    "Ny = 1\n",
    "\n",
    "# Generate the ranges\n",
    "xs = range(-xmax,xmax,length=Nx)\n",
    "ys = range(-ymax,ymax,length=Ny)\n",
    "for x in xs, y in ys\n",
    "    # TODO: simulate the initial conditions and cache the terminal error \n",
    "    err_term = NaN\n",
    "    \n",
    "    # push to res structure\n",
    "    push!(res, (x,y,err_term))\n",
    "end\n",
    "res = hcat(collect.(res)...)  # turn the list of tuples into a 2D matrix"
   ]
  },
  {
   "cell_type": "code",
   "execution_count": null,
   "metadata": {},
   "outputs": [],
   "source": [
    "# Plot the initial conditions in a scatter plot\n",
    "# TODO: fill the following variables to generate the plot (2 pts)\n",
    "xpoints = zeros(Nx*Ny)         # (Nx*Ny,) vector of x coordinates\n",
    "ypoints = zeros(Nx*Ny)         # (Nx*Ny,) vector of y coordinates\n",
    "valid = falses(Nx*Ny)          # (Nx*Ny,) vector of boolean values indicating success\n",
    "\n",
    "# Generate the plot\n",
    "valid = res[3,:] .< 0.2\n",
    "scatter(xpoints[valid], ypoints[valid], color=:green, xlabel=\"x\", ylabel=\"y\", label=\"success\")\n",
    "scatter!(xpoints[.!valid],ypoints[.!valid], color=:red, label=\"failure\")"
   ]
  },
  {
   "cell_type": "code",
   "execution_count": null,
   "metadata": {},
   "outputs": [],
   "source": [
    "# TASK: find the maximum area such that 95% of the points converge to the goal. (10 pts)\n",
    "#       save the result in Δx and Δy\n",
    "Δx = 0      # maximum deviation in x (half of the width of the region)\n",
    "Δy = 0      # maximum deviation in y (half of the height of the region)\n",
    "area = Δx * Δy\n",
    "println(\"region: Δx = $Δx, Δy = $Δy, area = $area\")"
   ]
  },
  {
   "cell_type": "code",
   "execution_count": null,
   "metadata": {},
   "outputs": [],
   "source": [
    "render(vis)"
   ]
  },
  {
   "cell_type": "code",
   "execution_count": null,
   "metadata": {},
   "outputs": [],
   "source": [
    "# Plot the region in the visualizer\n",
    "plot_region!(vis, Δx, Δy)"
   ]
  },
  {
   "cell_type": "code",
   "execution_count": null,
   "metadata": {},
   "outputs": [],
   "source": [
    "v = (abs.(xpoints) .<= Δx ) .& (abs.(ypoints) .<= Δy)\n",
    "@test (sum(valid[v]) / sum(v)) >= 0.95"
   ]
  },
  {
   "cell_type": "markdown",
   "metadata": {},
   "source": [
    "## Tests"
   ]
  },
  {
   "cell_type": "code",
   "execution_count": null,
   "metadata": {},
   "outputs": [],
   "source": [
    "run_tests();"
   ]
  }
 ],
 "metadata": {
  "kernelspec": {
   "display_name": "Julia 1.5.4",
   "language": "julia",
   "name": "julia-1.5"
  },
  "language_info": {
   "file_extension": ".jl",
   "mimetype": "application/julia",
   "name": "julia",
   "version": "1.5.4"
  }
 },
 "nbformat": 4,
 "nbformat_minor": 4
}
